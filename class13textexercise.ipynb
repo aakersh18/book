{
  "nbformat": 4,
  "nbformat_minor": 0,
  "metadata": {
    "colab": {
      "provenance": [],
      "authorship_tag": "ABX9TyPIDF+LMVMNhug7WUvDqIs1",
      "include_colab_link": true
    },
    "kernelspec": {
      "name": "python3",
      "display_name": "Python 3"
    },
    "language_info": {
      "name": "python"
    }
  },
  "cells": [
    {
      "cell_type": "markdown",
      "metadata": {
        "id": "view-in-github",
        "colab_type": "text"
      },
      "source": [
        "<a href=\"https://colab.research.google.com/github/aakersh18/book/blob/main/class13textexercise.ipynb\" target=\"_parent\"><img src=\"https://colab.research.google.com/assets/colab-badge.svg\" alt=\"Open In Colab\"/></a>"
      ]
    },
    {
      "cell_type": "code",
      "source": [
        "import nltk\n",
        "from sklearn.feature_extraction.text import CountVectorizer\n",
        "from sklearn.naive_bayes import MultinomialNB\n",
        "\n",
        "# Training data\n",
        "documents = [\n",
        "    \"Win a free iPhone now! Click here.\",  # Spam\n",
        "    \"Limited time offer, claim your prize!\",  # Spam\n",
        "    \"Congratulations! You won a lottery.\",  # Spam\n",
        "    \"Urgent: Your account needs verification.\",  # Spam\n",
        "    \"Get cheap loans at 0% interest.\",  # Spam\n",
        "    \"Hey, how are you doing today?\",  # Not spam\n",
        "    \"Let's catch up over coffee this weekend.\",  # Not spam\n",
        "    \"Can you send me the report by EOD?\",  # Not spam\n",
        "    \"Meeting is scheduled at 3 PM tomorrow.\",  # Not spam\n",
        "    \"Don't forget to submit your assignment.\",  # Not spam\n",
        "]\n",
        "\n",
        "# Labels: 1 for Spam, 0 for Not Spam\n",
        "labels = [1, 1, 1, 1, 1, 0, 0, 0, 0, 0]\n",
        "\n",
        "# Prepare features\n",
        "vectorizer = CountVectorizer()\n",
        "features = vectorizer.fit_transform(documents)\n",
        "\n",
        "# Train Naive Bayes classifier\n",
        "classifier = MultinomialNB()\n",
        "classifier.fit(features, labels)\n",
        "\n",
        "# Test with new examples\n",
        "new_examples = [\n",
        "    \"You have won a brand new car! Claim now.\",  # Likely Spam\n",
        "    \"Please submit the project report by tomorrow.\",  # Not Spam\n",
        "]\n",
        "\n",
        "# Transform new examples\n",
        "new_features = vectorizer.transform(new_examples)\n",
        "\n",
        "# Predict\n",
        "predictions = classifier.predict(new_features)\n",
        "\n",
        "# Output predictions\n",
        "print(predictions)  # Expected: [1, 0] (Spam, Not Spam)\n"
      ],
      "metadata": {
        "colab": {
          "base_uri": "https://localhost:8080/"
        },
        "id": "HFul2Ttsnp42",
        "outputId": "5a1ffbc0-276a-4421-eb11-c91789babe68"
      },
      "execution_count": 3,
      "outputs": [
        {
          "output_type": "stream",
          "name": "stdout",
          "text": [
            "[1 0]\n"
          ]
        }
      ]
    }
  ]
}